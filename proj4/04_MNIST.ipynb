{
  "nbformat": 4,
  "nbformat_minor": 0,
  "metadata": {
    "colab": {
      "name": "04.MNIST.ipynb",
      "provenance": [],
      "collapsed_sections": []
    },
    "kernelspec": {
      "name": "python3",
      "display_name": "Python 3"
    },
    "accelerator": "GPU"
  },
  "cells": [
    {
      "cell_type": "markdown",
      "metadata": {
        "id": "CttH-ynKdaNq",
        "colab_type": "text"
      },
      "source": [
        "# Import modules"
      ]
    },
    {
      "cell_type": "code",
      "metadata": {
        "id": "TPcE-cf03x1G",
        "colab_type": "code",
        "colab": {}
      },
      "source": [
        "import keras\n",
        "from keras.datasets import mnist\n",
        "from keras.models import Sequential\n",
        "from keras.layers import Dense, Dropout, Flatten, Activation\n",
        "from keras.layers import Conv2D, MaxPooling2D\n",
        "from keras import backend as K\n",
        "from keras.utils.vis_utils import model_to_dot\n",
        "from IPython.display import SVG\n",
        "%matplotlib inline\n",
        "import matplotlib.pyplot as plt\n",
        "from sklearn.metrics import confusion_matrix\n",
        "import pandas as pd\n",
        "import seaborn as sns"
      ],
      "execution_count": null,
      "outputs": []
    },
    {
      "cell_type": "markdown",
      "metadata": {
        "id": "u9ykG_EHxT5y",
        "colab_type": "text"
      },
      "source": [
        "# Tuning parameters"
      ]
    },
    {
      "cell_type": "code",
      "metadata": {
        "id": "1Q22VwhX38Uo",
        "colab_type": "code",
        "colab": {}
      },
      "source": [
        "epochs = 10\n",
        "learning_rate=0.01"
      ],
      "execution_count": null,
      "outputs": []
    },
    {
      "cell_type": "code",
      "metadata": {
        "id": "_iLVuvrleqbB",
        "colab_type": "code",
        "colab": {}
      },
      "source": [
        "batch_size = 128\n",
        "num_classes = 10"
      ],
      "execution_count": null,
      "outputs": []
    },
    {
      "cell_type": "markdown",
      "metadata": {
        "id": "DTRy8O-Bloud",
        "colab_type": "text"
      },
      "source": [
        "# Data"
      ]
    },
    {
      "cell_type": "markdown",
      "metadata": {
        "id": "B0oTrbKHcZVV",
        "colab_type": "text"
      },
      "source": [
        "## Plot image"
      ]
    },
    {
      "cell_type": "code",
      "metadata": {
        "id": "3SSeHKiggedo",
        "colab_type": "code",
        "colab": {}
      },
      "source": [
        "def plot_images(x, y_true, y_pred=None, size=(5, 5)):\n",
        "    assert len(x) == len(y_true) == size[0] * size[1]\n",
        "    \n",
        "    fig, axes = plt.subplots(size[0], size[1])\n",
        "    fig.subplots_adjust(hspace=0.5, wspace=0.1)\n",
        "\n",
        "    for i, ax in enumerate(axes.flat):\n",
        "        if x[i].shape[-1] == 1:\n",
        "          ax.imshow(x[i].reshape(x[i].shape[0], x[i].shape[1]))\n",
        "        else:\n",
        "          ax.imshow(x[i])\n",
        "\n",
        "        if y_pred is None:\n",
        "            xlabel = \"True: {0}\".format(y_true[i].argmax())\n",
        "        else:\n",
        "            xlabel = \"True: {0}, Pred: {1}\".format(y_true[i].argmax(), \n",
        "                                                   y_pred[i].argmax())\n",
        "\n",
        "        ax.set_xlabel(xlabel)\n",
        "        \n",
        "        ax.set_xticks([])\n",
        "        ax.set_yticks([])\n",
        "\n",
        "    plt.show()"
      ],
      "execution_count": null,
      "outputs": []
    },
    {
      "cell_type": "markdown",
      "metadata": {
        "id": "OmEH-fu2exDv",
        "colab_type": "text"
      },
      "source": [
        "## Load dataset"
      ]
    },
    {
      "cell_type": "code",
      "metadata": {
        "id": "vk-aKTUq37Mp",
        "colab_type": "code",
        "colab": {}
      },
      "source": [
        "(x_train, y_train), (x_test, y_test) = mnist.load_data()"
      ],
      "execution_count": null,
      "outputs": []
    },
    {
      "cell_type": "markdown",
      "metadata": {
        "id": "2R_RYuFvxkxG",
        "colab_type": "text"
      },
      "source": [
        "## Reshaping the data"
      ]
    },
    {
      "cell_type": "code",
      "metadata": {
        "id": "Cb6Q1qm2xbis",
        "colab_type": "code",
        "colab": {}
      },
      "source": [
        "if len(x_train.shape) < 4:\n",
        "  x_train = x_train.reshape(x_train.shape[0], x_train.shape[1], x_train.shape[2], 1)\n",
        "  x_test = x_test.reshape(x_test.shape[0], x_train.shape[1], x_train.shape[2], 1)"
      ],
      "execution_count": null,
      "outputs": []
    },
    {
      "cell_type": "code",
      "metadata": {
        "id": "JHL9_0sE3_1Q",
        "colab_type": "code",
        "colab": {}
      },
      "source": [
        "x_train = x_train.astype('float32')\n",
        "x_test = x_test.astype('float32')\n",
        "x_train /= 255\n",
        "x_test /= 255\n",
        "print('x_train shape:', x_train.shape)\n",
        "print(x_train.shape[0], 'train samples')\n",
        "print(x_test.shape[0], 'test samples')"
      ],
      "execution_count": null,
      "outputs": []
    },
    {
      "cell_type": "markdown",
      "metadata": {
        "id": "hQMRbujdxoS1",
        "colab_type": "text"
      },
      "source": [
        "## Applying One hot encoding for the data"
      ]
    },
    {
      "cell_type": "code",
      "metadata": {
        "id": "tczq1zJJ4Bd0",
        "colab_type": "code",
        "colab": {}
      },
      "source": [
        "y_train = keras.utils.to_categorical(y_train, num_classes)\n",
        "y_test = keras.utils.to_categorical(y_test, num_classes)"
      ],
      "execution_count": null,
      "outputs": []
    },
    {
      "cell_type": "markdown",
      "metadata": {
        "id": "_kkozXvddyyB",
        "colab_type": "text"
      },
      "source": [
        "## Show data"
      ]
    },
    {
      "cell_type": "code",
      "metadata": {
        "id": "tHO8KB8zd1vp",
        "colab_type": "code",
        "colab": {}
      },
      "source": [
        "plot_images(x_train[:25], y_train[:25])"
      ],
      "execution_count": null,
      "outputs": []
    },
    {
      "cell_type": "markdown",
      "metadata": {
        "id": "fytNaqPMy0uf",
        "colab_type": "text"
      },
      "source": [
        "# Creating the DNN model"
      ]
    },
    {
      "cell_type": "code",
      "metadata": {
        "id": "uUShWbV24C4R",
        "colab_type": "code",
        "colab": {}
      },
      "source": [
        "model = Sequential()"
      ],
      "execution_count": null,
      "outputs": []
    },
    {
      "cell_type": "markdown",
      "metadata": {
        "id": "eR3qIzvRy4jy",
        "colab_type": "text"
      },
      "source": [
        "## Adding layers to the model"
      ]
    },
    {
      "cell_type": "code",
      "metadata": {
        "id": "p5P1W5284GnQ",
        "colab_type": "code",
        "colab": {}
      },
      "source": [
        "model.add(Conv2D(32, kernel_size=(3, 3), activation='relu', \n",
        "                 input_shape=x_train.shape[1:]))\n",
        "model.add(Conv2D(64, (3, 3), activation='relu'))\n",
        "model.add(Conv2D(128, (3, 3), activation='relu'))\n",
        "model.add(MaxPooling2D(pool_size=(2, 2)))\n",
        "model.add(Dropout(0.25))\n",
        "model.add(Flatten())\n",
        "model.add(Dense(128, activation='relu'))\n",
        "model.add(Dropout(0.5))\n",
        "model.add(Dense(num_classes, activation='softmax'))"
      ],
      "execution_count": null,
      "outputs": []
    },
    {
      "cell_type": "markdown",
      "metadata": {
        "id": "VtDokEwTz-Yh",
        "colab_type": "text"
      },
      "source": [
        "## Visualization the model"
      ]
    },
    {
      "cell_type": "code",
      "metadata": {
        "id": "goDA5Dbiy1yQ",
        "colab_type": "code",
        "colab": {}
      },
      "source": [
        "SVG(model_to_dot(model, show_shapes=True).create(prog='dot', format='svg'))"
      ],
      "execution_count": null,
      "outputs": []
    },
    {
      "cell_type": "markdown",
      "metadata": {
        "id": "5IhZseCdfJaP",
        "colab_type": "text"
      },
      "source": [
        "## Optimizer"
      ]
    },
    {
      "cell_type": "code",
      "metadata": {
        "id": "fg_MY6g0fK0P",
        "colab_type": "code",
        "colab": {}
      },
      "source": [
        "optimizer = keras.optimizers.SGD(lr=learning_rate)"
      ],
      "execution_count": null,
      "outputs": []
    },
    {
      "cell_type": "markdown",
      "metadata": {
        "id": "uJxeGY6wy9SY",
        "colab_type": "text"
      },
      "source": [
        "## Compiling the model"
      ]
    },
    {
      "cell_type": "code",
      "metadata": {
        "id": "xf9mmKWK4QMh",
        "colab_type": "code",
        "colab": {}
      },
      "source": [
        "model.compile(loss=keras.losses.categorical_crossentropy, \n",
        "              optimizer=optimizer, \n",
        "              metrics=['accuracy'])"
      ],
      "execution_count": null,
      "outputs": []
    },
    {
      "cell_type": "markdown",
      "metadata": {
        "id": "W1o7VFdvzCcY",
        "colab_type": "text"
      },
      "source": [
        "## Training the model"
      ]
    },
    {
      "cell_type": "code",
      "metadata": {
        "id": "hRMGGn5g4RdW",
        "colab_type": "code",
        "colab": {}
      },
      "source": [
        "model.fit(x_train, y_train,\n",
        "          batch_size=batch_size,\n",
        "          epochs=epochs,\n",
        "          verbose=1,\n",
        "          validation_data=(x_test, y_test))"
      ],
      "execution_count": null,
      "outputs": []
    },
    {
      "cell_type": "markdown",
      "metadata": {
        "id": "bUFlA5EvzFDB",
        "colab_type": "text"
      },
      "source": [
        "## Evaulating the model"
      ]
    },
    {
      "cell_type": "code",
      "metadata": {
        "id": "R6U6JC6Z4Scj",
        "colab_type": "code",
        "colab": {}
      },
      "source": [
        "score = model.evaluate(x_test, y_test, verbose=0)\n",
        "print('Test loss:', score[0])\n",
        "print('Test accuracy:', score[1])"
      ],
      "execution_count": null,
      "outputs": []
    },
    {
      "cell_type": "markdown",
      "metadata": {
        "id": "hrZZwM4PjhLo",
        "colab_type": "text"
      },
      "source": [
        "## Prediction the model"
      ]
    },
    {
      "cell_type": "code",
      "metadata": {
        "id": "EeQpuwtEofa1",
        "colab_type": "code",
        "colab": {}
      },
      "source": [
        "y_pred = model.predict(x_test)"
      ],
      "execution_count": null,
      "outputs": []
    },
    {
      "cell_type": "code",
      "metadata": {
        "id": "NZWcHZaJgf1H",
        "colab_type": "code",
        "colab": {}
      },
      "source": [
        "plot_images(x=x_test[:25], y_true=y_test[:25], y_pred=y_pred[:25])"
      ],
      "execution_count": null,
      "outputs": []
    },
    {
      "cell_type": "code",
      "metadata": {
        "id": "cTxF9jDUfOTt",
        "colab_type": "code",
        "colab": {}
      },
      "source": [
        "y_result = confusion_matrix(y_test.argmax(axis=1), y_pred.argmax(axis=1))\n",
        "sns.heatmap(pd.DataFrame(y_result, range(10), range(10)), annot=True, fmt='g')"
      ],
      "execution_count": null,
      "outputs": []
    }
  ]
}